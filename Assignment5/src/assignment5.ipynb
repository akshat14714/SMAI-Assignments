{
 "cells": [
  {
   "cell_type": "markdown",
   "metadata": {},
   "source": [
    "# SMAI Assignment - 5\n",
    "## Name : Akshat Maheshwari (20161024)"
   ]
  },
  {
   "cell_type": "markdown",
   "metadata": {},
   "source": [
    "## Part - 1"
   ]
  },
  {
   "cell_type": "code",
   "execution_count": 1,
   "metadata": {},
   "outputs": [],
   "source": [
    "# Import the required libraries\n",
    "\n",
    "import numpy as np\n",
    "import pandas as pd\n",
    "import csv\n",
    "import pprint\n",
    "import sys\n",
    "import math\n",
    "import matplotlib.pyplot as plt\n",
    "\n",
    "# from IPython.utils import io\n",
    "\n",
    "from neural_nets import NeuralNet"
   ]
  },
  {
   "cell_type": "code",
   "execution_count": 2,
   "metadata": {},
   "outputs": [],
   "source": [
    "# Classify the dataset into X and Y\n",
    "\n",
    "def classifyXY(dataset):\n",
    "    X = np.array(dataset[:, 1:], dtype=float)\n",
    "    Y = np.array(dataset[:, 0], dtype=int)\n",
    "    \n",
    "    return X, Y"
   ]
  },
  {
   "cell_type": "code",
   "execution_count": 3,
   "metadata": {},
   "outputs": [],
   "source": [
    "# Load file function\n",
    "def load_file(filename):\n",
    "    train_data, test_data = [], []\n",
    "    dataset = []\n",
    "\n",
    "#     with open(filename) as csvfile:\n",
    "#         lines = csv.reader(csvfile)\n",
    "#         dataset = np.array(list(lines))\n",
    "\n",
    "    dataset = pd.read_csv(filename)\n",
    "    \n",
    "    dataset = dataset.values\n",
    "    \n",
    "    dataset = np.array(dataset)\n",
    "\n",
    "    np.random.shuffle(dataset)\n",
    "\n",
    "    train_size = int(0.6 * len(dataset))\n",
    "    val_size = int(0.2 * len(dataset))\n",
    "    train_data = dataset[:train_size, :]\n",
    "    train_data = np.array(train_data)\n",
    "    val_data = dataset[train_size:, :]\n",
    "    val_data = np.array(val_data)\n",
    "    test_data = dataset[train_size+val_size:, :]\n",
    "    test_data = np.array(test_data)\n",
    "    \n",
    "    X_train, y_train = classifyXY(train_data)\n",
    "    X_val, y_val = classifyXY(val_data)\n",
    "    X_test, y_test = classifyXY(test_data)\n",
    "\n",
    "\n",
    "    return X_train, y_train, X_val, y_val, X_test, y_test"
   ]
  },
  {
   "cell_type": "code",
   "execution_count": 4,
   "metadata": {},
   "outputs": [],
   "source": [
    "filename = '../Apparel/apparel-trainval.csv'\n",
    "X_train, y_train, X_val, y_val, X_test, y_test = load_file(filename)\n",
    "# X, Y = classifyXY(dataset)\n",
    "# print(Y)"
   ]
  },
  {
   "cell_type": "code",
   "execution_count": 5,
   "metadata": {
    "scrolled": false
   },
   "outputs": [
    {
     "name": "stdout",
     "output_type": "stream",
     "text": [
      "iteration 0 / 5000: loss 2.302697\n",
      "iteration 100 / 5000: loss 2.297672\n",
      "iteration 200 / 5000: loss 2.088198\n",
      "iteration 300 / 5000: loss 1.431914\n",
      "iteration 400 / 5000: loss 1.362264\n",
      "iteration 500 / 5000: loss 1.045561\n",
      "iteration 600 / 5000: loss 0.966777\n",
      "iteration 700 / 5000: loss 0.879766\n",
      "iteration 800 / 5000: loss 0.898631\n",
      "iteration 900 / 5000: loss 0.885635\n",
      "iteration 1000 / 5000: loss 0.861172\n",
      "iteration 1100 / 5000: loss 0.864583\n",
      "iteration 1200 / 5000: loss 0.834967\n",
      "iteration 1300 / 5000: loss 0.740330\n",
      "iteration 1400 / 5000: loss 0.767568\n",
      "iteration 1500 / 5000: loss 0.647190\n",
      "iteration 1600 / 5000: loss 0.750855\n",
      "iteration 1700 / 5000: loss 0.737499\n",
      "iteration 1800 / 5000: loss 0.635746\n",
      "iteration 1900 / 5000: loss 0.658236\n",
      "iteration 2000 / 5000: loss 0.693095\n",
      "iteration 2100 / 5000: loss 0.543636\n",
      "iteration 2200 / 5000: loss 0.586809\n",
      "iteration 2300 / 5000: loss 0.713304\n",
      "iteration 2400 / 5000: loss 0.649382\n",
      "iteration 2500 / 5000: loss 0.579344\n",
      "iteration 2600 / 5000: loss 0.642333\n",
      "iteration 2700 / 5000: loss 0.687218\n",
      "iteration 2800 / 5000: loss 0.557357\n",
      "iteration 2900 / 5000: loss 0.633434\n",
      "iteration 3000 / 5000: loss 0.659491\n",
      "iteration 3100 / 5000: loss 0.683717\n",
      "iteration 3200 / 5000: loss 0.550511\n",
      "iteration 3300 / 5000: loss 0.801506\n",
      "iteration 3400 / 5000: loss 0.606905\n",
      "iteration 3500 / 5000: loss 0.355374\n",
      "iteration 3600 / 5000: loss 0.663510\n",
      "iteration 3700 / 5000: loss 0.507215\n",
      "iteration 3800 / 5000: loss 0.526629\n",
      "iteration 3900 / 5000: loss 0.441663\n",
      "iteration 4000 / 5000: loss 0.792561\n",
      "iteration 4100 / 5000: loss 0.580986\n",
      "iteration 4200 / 5000: loss 0.563834\n",
      "iteration 4300 / 5000: loss 0.453124\n",
      "iteration 4400 / 5000: loss 0.474347\n",
      "iteration 4500 / 5000: loss 0.542737\n",
      "iteration 4600 / 5000: loss 0.546435\n",
      "iteration 4700 / 5000: loss 0.705658\n",
      "iteration 4800 / 5000: loss 0.450501\n",
      "iteration 4900 / 5000: loss 0.551662\n",
      "Validation Accuracy: 0.819875\n"
     ]
    }
   ],
   "source": [
    "# Train the Network\n",
    "\n",
    "input_size = 28 * 28\n",
    "hidden_size = 50\n",
    "num_classes = 10\n",
    "num_layers = 3\n",
    "\n",
    "net = NeuralNet(input_size, hidden_size, num_classes)\n",
    "\n",
    "stats = net.train(X_train, y_train, X_val, y_val,\n",
    "            num_iters=5000, batch_size=100,\n",
    "            learning_rate=1e-4, learning_rate_decay=0.95,\n",
    "            reg=0.25, verbose=True)\n",
    "\n",
    "val_acc = (net.predict(X_val) == y_val).mean()\n",
    "\n",
    "print('Validation Accuracy:', val_acc)"
   ]
  },
  {
   "cell_type": "code",
   "execution_count": 6,
   "metadata": {},
   "outputs": [
    {
     "data": {
      "image/png": "[encoded data removed]",
      "text/plain": [
       "<Figure size 432x288 with 1 Axes>"
      ]
     },
     "metadata": {
      "needs_background": "light"
     },
     "output_type": "display_data"
    },
    {
     "data": {
      "image/png": "[encoded data removed]",
      "text/plain": [
       "<Figure size 432x288 with 1 Axes>"
      ]
     },
     "metadata": {
      "needs_background": "light"
     },
     "output_type": "display_data"
    }
   ],
   "source": [
    "# Plot the loss function and train / validation accuracies\n",
    "plt.plot\n",
    "plt.plot(stats['loss_history'])\n",
    "plt.title('Loss history')\n",
    "plt.xlabel('Iteration')\n",
    "plt.ylabel('Loss')\n",
    "plt.show()\n",
    "\n",
    "plt.plot\n",
    "plt.plot(stats['train_acc_history'], label='train')\n",
    "plt.plot(stats['val_acc_history'], label='val')\n",
    "plt.legend(loc='upper left')\n",
    "plt.title('Classification accuracy history')\n",
    "plt.xlabel('Epoch')\n",
    "plt.ylabel('Clasification accuracy')\n",
    "plt.show()"
   ]
  },
  {
   "cell_type": "markdown",
   "metadata": {},
   "source": [
    "As we can see in the above curves, the accuracy increases with the number of epochs, which implies that the error reduces significantly with the increase in number of epochs."
   ]
  },
  {
   "cell_type": "code",
   "execution_count": 7,
   "metadata": {},
   "outputs": [
    {
     "name": "stdout",
     "output_type": "stream",
     "text": [
      "iteration 0 / 5000: loss 2.302812\n",
      "iteration 100 / 5000: loss 1.088546\n",
      "iteration 200 / 5000: loss 0.815879\n",
      "iteration 300 / 5000: loss 0.703339\n",
      "iteration 400 / 5000: loss 0.633698\n",
      "iteration 500 / 5000: loss 0.728007\n",
      "iteration 600 / 5000: loss 0.737351\n",
      "iteration 700 / 5000: loss 0.561312\n",
      "iteration 800 / 5000: loss 0.567995\n",
      "iteration 900 / 5000: loss 0.684309\n",
      "iteration 1000 / 5000: loss 0.556156\n",
      "iteration 1100 / 5000: loss 0.588648\n",
      "iteration 1200 / 5000: loss 0.478378\n",
      "iteration 1300 / 5000: loss 0.501578\n",
      "iteration 1400 / 5000: loss 0.552211\n",
      "iteration 1500 / 5000: loss 0.414360\n",
      "iteration 1600 / 5000: loss 0.328023\n",
      "iteration 1700 / 5000: loss 0.594023\n",
      "iteration 1800 / 5000: loss 0.453574\n",
      "iteration 1900 / 5000: loss 0.515405\n",
      "iteration 2000 / 5000: loss 0.466656\n",
      "iteration 2100 / 5000: loss 0.403149\n",
      "iteration 2200 / 5000: loss 0.428823\n",
      "iteration 2300 / 5000: loss 0.506771\n",
      "iteration 2400 / 5000: loss 0.535479\n",
      "iteration 2500 / 5000: loss 0.523496\n",
      "iteration 2600 / 5000: loss 0.412122\n",
      "iteration 2700 / 5000: loss 0.448482\n",
      "iteration 2800 / 5000: loss 0.767242\n",
      "iteration 2900 / 5000: loss 0.383520\n",
      "iteration 3000 / 5000: loss 0.530419\n",
      "iteration 3100 / 5000: loss 0.433643\n",
      "iteration 3200 / 5000: loss 0.394381\n",
      "iteration 3300 / 5000: loss 0.425231\n",
      "iteration 3400 / 5000: loss 0.441093\n",
      "iteration 3500 / 5000: loss 0.580989\n",
      "iteration 3600 / 5000: loss 0.471662\n",
      "iteration 3700 / 5000: loss 0.420064\n",
      "iteration 3800 / 5000: loss 0.482343\n",
      "iteration 3900 / 5000: loss 0.387291\n",
      "iteration 4000 / 5000: loss 0.277489\n",
      "iteration 4100 / 5000: loss 0.455344\n",
      "iteration 4200 / 5000: loss 0.435692\n",
      "iteration 4300 / 5000: loss 0.477571\n",
      "iteration 4400 / 5000: loss 0.466313\n",
      "iteration 4500 / 5000: loss 0.463116\n",
      "iteration 4600 / 5000: loss 0.434383\n",
      "iteration 4700 / 5000: loss 0.432706\n",
      "iteration 4800 / 5000: loss 0.517346\n",
      "iteration 4900 / 5000: loss 0.363377\n",
      "Validation accuracy:  0.8624166666666667\n"
     ]
    }
   ],
   "source": [
    "# Tune the hyperparameters\n",
    "best_net = None\n",
    "\n",
    "input_size = 28 * 28\n",
    "hidden_size = 100\n",
    "num_classes = 10\n",
    "# num_layers = 3\n",
    "\n",
    "net = NeuralNet(input_size, hidden_size, num_classes)\n",
    "\n",
    "# Train the network\n",
    "stats = net.train(X_train, y_train, X_val, y_val,\n",
    "            num_iters=5000, batch_size=100,\n",
    "            learning_rate=5e-4, learning_rate_decay=0.95,\n",
    "            reg=0.25, verbose=True)\n",
    "\n",
    "# Predict on the validation set\n",
    "val_acc = (net.predict(X_val) == y_val).mean()\n",
    "print('Validation accuracy: ', val_acc)\n",
    "\n",
    "\n",
    "best_net = net"
   ]
  },
  {
   "cell_type": "code",
   "execution_count": 8,
   "metadata": {},
   "outputs": [
    {
     "name": "stdout",
     "output_type": "stream",
     "text": [
      "Test Accuracy: 0.8575\n"
     ]
    }
   ],
   "source": [
    "# Run on test set\n",
    "test_acc = (best_net.predict(X_test) == y_test).mean()\n",
    "\n",
    "print('Test Accuracy:', test_acc)"
   ]
  },
  {
   "cell_type": "code",
   "execution_count": 9,
   "metadata": {},
   "outputs": [
    {
     "name": "stdout",
     "output_type": "stream",
     "text": [
      "[0 1 2 ... 4 2 2]\n"
     ]
    }
   ],
   "source": [
    "# Load the test file to be worked upon\n",
    "\n",
    "dataset = pd.read_csv('../Apparel/apparel-test.csv')\n",
    "    \n",
    "dataset = dataset.values\n",
    "\n",
    "dataset = np.array(dataset)\n",
    "\n",
    "predictions = best_net.predict(dataset)\n",
    "\n",
    "print(predictions)"
   ]
  },
  {
   "cell_type": "code",
   "execution_count": 10,
   "metadata": {},
   "outputs": [],
   "source": [
    "predictions = np.array(predictions, dtype=int)\n",
    "np.savetxt('20161024_predictions.csv', predictions)"
   ]
  },
  {
   "cell_type": "markdown",
   "metadata": {},
   "source": [
    "#### Activation Function in best net : ReLU Activation Function\n",
    "#### Loss Function in best net : Softmax Loss Function\n",
    "\n",
    "- The ReLU Activation function is given by:\n",
    "    f(x) = max(0, x)\n",
    "\n",
    "\n",
    "- The Softmax loss function is given by:\n",
    "    Softmax(x)<sub>j</sub> = $\\frac{e^{x_j}}{\\sum_{k=1}^K e^{x_k}}$\n",
    "    \n",
    "The best neural network as per my implementation is a 2-layer neural network, which is of the form:\n",
    "\n",
    "<center>Input &rarr; Fully Connected Layer &rarr; ReLU Layer &rarr; Fully Connected Layer &rarr; Softmax &rarr; Output</center>\n",
    "\n",
    "The best accuracy is occuring at 2 hidden layers. As I tried to increase the number of hidden layers to 3, the accuracy drastically dropped down to 9% from 85% in case pf 2 hidden layer network."
   ]
  },
  {
   "cell_type": "markdown",
   "metadata": {},
   "source": [
    "## Part - 2"
   ]
  },
  {
   "cell_type": "markdown",
   "metadata": {},
   "source": [
    "As given in the question the dataset is the House Price Prediction Dataset, as given on kaggle.\n",
    "- The dataset has dimensions 1460 X 81 for the train data.\n",
    "- There are a total of 80 features and a total of 6 output labels.\n",
    "\n",
    "Now, all the features are not numerical, so what we can do is to first create dictionaries with each categorical label being given a particular number as per our choice. This will help getting all the data as numerical data (because our whole neural network is designed for numerical data only).\n",
    "\n",
    "Now, once we are done with changing the data to completely numerical data, we will modify our neural network to have 3 hidden layers (instead of 2 in best net for part 1).\n",
    "\n",
    "So, what we have to do is to add one more layer in the network and add its backpropagation code.\n",
    "\n",
    "One more thing, this problem is a regression problem, unlike the last problem which was a classification problem. So, the softmax and cross-entropy loss will not work here. We will have to use the regression loss function (best to use L2 loss), and change the gradient calculation correspondingly. This loss has to be minimized.\n",
    "\n",
    "The regularized parameters and the learning parameters may get tweaked a bit."
   ]
  }
 ],
 "metadata": {
  "kernelspec": {
   "display_name": "Python 3",
   "language": "python",
   "name": "python3"
  },
  "language_info": {
   "codemirror_mode": {
    "name": "ipython",
    "version": 3
   },
   "file_extension": ".py",
   "mimetype": "text/x-python",
   "name": "python",
   "nbconvert_exporter": "python",
   "pygments_lexer": "ipython3",
   "version": "3.6.7"
  }
 },
 "nbformat": 4,
 "nbformat_minor": 2
}
